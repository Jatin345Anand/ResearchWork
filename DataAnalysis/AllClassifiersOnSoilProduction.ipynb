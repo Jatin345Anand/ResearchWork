{
 "cells": [
  {
   "cell_type": "code",
   "execution_count": 3,
   "metadata": {},
   "outputs": [
    {
     "name": "stderr",
     "output_type": "stream",
     "text": [
      "/anaconda3/lib/python3.6/importlib/_bootstrap.py:219: RuntimeWarning: numpy.dtype size changed, may indicate binary incompatibility. Expected 96, got 88\n",
      "  return f(*args, **kwds)\n",
      "/anaconda3/lib/python3.6/importlib/_bootstrap.py:219: RuntimeWarning: numpy.dtype size changed, may indicate binary incompatibility. Expected 96, got 88\n",
      "  return f(*args, **kwds)\n"
     ]
    }
   ],
   "source": [
    "import seaborn as sns\n",
    "import matplotlib.pyplot as plt\n",
    "import pandas as pd\n",
    "crops = pd.read_csv('crop_production.csv')"
   ]
  },
  {
   "cell_type": "code",
   "execution_count": 4,
   "metadata": {},
   "outputs": [],
   "source": [
    "crops.dropna(inplace=True)\n",
    "import numpy as np\n",
    "X1= crops['Area'].values\n",
    "X2= crops['Production'].values\n",
    "nx1= np.array(X1)\n",
    "nx2= np.array(X2)\n",
    "Y = crops['Season'].values"
   ]
  },
  {
   "cell_type": "code",
   "execution_count": 5,
   "metadata": {},
   "outputs": [],
   "source": [
    "def Reduct_N_DigitValues(n,L):\n",
    "    Ans=[]\n",
    "    for i in range(len(L)):\n",
    "        if(len(str(int(round(L[i]))))>(n-1)):\n",
    "            Ans.append(int(str(int(round(L[i])))[:n]))\n",
    "    return np.array(Ans)"
   ]
  },
  {
   "cell_type": "code",
   "execution_count": 6,
   "metadata": {},
   "outputs": [],
   "source": [
    "nx2lists=[]\n",
    "for i in range(1,6):\n",
    "    nx2lists.append(Reduct_N_DigitValues(i,X2))"
   ]
  },
  {
   "cell_type": "code",
   "execution_count": 7,
   "metadata": {},
   "outputs": [
    {
     "data": {
      "text/plain": [
       "[array([2, 1, 3, ..., 1, 5, 8]),\n",
       " array([20, 32, 64, ..., 16, 59, 88]),\n",
       " array([200, 321, 641, ..., 463, 162, 597]),\n",
       " array([2000, 6510, 2061, ..., 2039, 1625, 5978]),\n",
       " array([65100, 64430, 67490, ..., 13337, 16250, 59789])]"
      ]
     },
     "execution_count": 7,
     "metadata": {},
     "output_type": "execute_result"
    }
   ],
   "source": [
    "nx2lists"
   ]
  },
  {
   "cell_type": "code",
   "execution_count": 8,
   "metadata": {},
   "outputs": [],
   "source": [
    "nx1lists=[]\n",
    "for i in range(1,6):\n",
    "    nx1lists.append(Reduct_N_DigitValues(i,X1))"
   ]
  },
  {
   "cell_type": "code",
   "execution_count": 9,
   "metadata": {},
   "outputs": [
    {
     "data": {
      "text/plain": [
       "[array([1, 2, 1, ..., 3, 2, 1]),\n",
       " array([12, 10, 17, ..., 32, 27, 17]),\n",
       " array([125, 102, 176, ..., 324, 279, 175]),\n",
       " array([1254, 1816, 1254, ..., 1885, 1622, 2791]),\n",
       " array([18168, 18190, 18240, ..., 30227, 11493, 27915])]"
      ]
     },
     "execution_count": 9,
     "metadata": {},
     "output_type": "execute_result"
    }
   ],
   "source": [
    "nx1lists"
   ]
  },
  {
   "cell_type": "code",
   "execution_count": 10,
   "metadata": {},
   "outputs": [],
   "source": [
    "def MinimizeLengthofLists(L1,L2,L3):\n",
    "    Ans=[]\n",
    "    L11= L1.tolist()\n",
    "    L22= L2.tolist()\n",
    "    Min = min(len(L11),len(L22))\n",
    "    print(\"min = \",Min)\n",
    "    if(Min==len(L11)):\n",
    "        print('L11')\n",
    "        for i in range(Min):\n",
    "            Ans.append(L22[i])\n",
    "        L22.clear()\n",
    "        L22=Ans\n",
    "    else:\n",
    "        print('L22')\n",
    "        for i in range(Min):\n",
    "            Ans.append(L11[i])\n",
    "        L11.clear()\n",
    "        L11=Ans\n",
    "    print(len(L11),len(L22),len(Ans),len(L3))\n",
    "    Y1=[]\n",
    "    for i in range(Min):\n",
    "        Y1.append(L3[i])\n",
    "    print(len(Y1))\n",
    "    return np.array(L11),np.array(L22),np.array(Y1)\n",
    "    \n",
    "            "
   ]
  },
  {
   "cell_type": "code",
   "execution_count": 11,
   "metadata": {},
   "outputs": [
    {
     "name": "stdout",
     "output_type": "stream",
     "text": [
      "min =  242361\n",
      "L11\n",
      "242361 242361 242361 242361\n",
      "242361\n",
      "min =  218943\n",
      "L22\n",
      "218943 218943 218943 242361\n",
      "218943\n",
      "min =  178438\n",
      "L11\n",
      "178438 178438 178438 242361\n",
      "178438\n",
      "min =  105643\n",
      "L11\n",
      "105643 105643 105643 242361\n",
      "105643\n",
      "min =  42367\n",
      "L11\n",
      "42367 42367 42367 242361\n",
      "42367\n"
     ]
    }
   ],
   "source": [
    "L=[]\n",
    "for i in range(5):\n",
    "    L1=[]\n",
    "    Ans= MinimizeLengthofLists(nx1lists[i],nx2lists[i],Y)\n",
    "    L1.append(Ans[0])\n",
    "    L1.append(Ans[1])\n",
    "    L1.append(Ans[2])\n",
    "    L.append(L1)"
   ]
  },
  {
   "cell_type": "code",
   "execution_count": 12,
   "metadata": {},
   "outputs": [],
   "source": [
    "NX = []\n",
    "for i in L:\n",
    "    NX.append(np.vstack((i[0],i[1])).T)\n",
    "    "
   ]
  },
  {
   "cell_type": "code",
   "execution_count": 13,
   "metadata": {},
   "outputs": [],
   "source": [
    "from sklearn.preprocessing import  StandardScaler\n",
    "Scaler = StandardScaler()"
   ]
  },
  {
   "cell_type": "code",
   "execution_count": 14,
   "metadata": {},
   "outputs": [],
   "source": [
    "from sklearn.model_selection import train_test_split"
   ]
  },
  {
   "cell_type": "code",
   "execution_count": 15,
   "metadata": {},
   "outputs": [
    {
     "name": "stderr",
     "output_type": "stream",
     "text": [
      "/anaconda3/lib/python3.6/site-packages/sklearn/utils/validation.py:475: DataConversionWarning: Data with input dtype int64 was converted to float64 by StandardScaler.\n",
      "  warnings.warn(msg, DataConversionWarning)\n",
      "/anaconda3/lib/python3.6/site-packages/sklearn/utils/validation.py:475: DataConversionWarning: Data with input dtype int64 was converted to float64 by StandardScaler.\n",
      "  warnings.warn(msg, DataConversionWarning)\n"
     ]
    },
    {
     "data": {
      "text/plain": [
       "array([[-0.97525036, -0.53024364],\n",
       "       [-0.56658216, -0.93977582],\n",
       "       [-0.97525036, -0.12071146],\n",
       "       ...,\n",
       "       [-0.15791396, -0.93977582],\n",
       "       [-0.56658216,  0.6983529 ],\n",
       "       [-0.97525036,  1.92694944]])"
      ]
     },
     "execution_count": 15,
     "metadata": {},
     "output_type": "execute_result"
    }
   ],
   "source": [
    "NX[0]= Scaler.fit_transform(NX[0])\n",
    "NX[0]"
   ]
  },
  {
   "cell_type": "code",
   "execution_count": 16,
   "metadata": {},
   "outputs": [
    {
     "name": "stderr",
     "output_type": "stream",
     "text": [
      "/anaconda3/lib/python3.6/site-packages/sklearn/utils/validation.py:475: DataConversionWarning: Data with input dtype int64 was converted to float64 by StandardScaler.\n",
      "  warnings.warn(msg, DataConversionWarning)\n",
      "/anaconda3/lib/python3.6/site-packages/sklearn/utils/validation.py:475: DataConversionWarning: Data with input dtype int64 was converted to float64 by StandardScaler.\n",
      "  warnings.warn(msg, DataConversionWarning)\n",
      "/anaconda3/lib/python3.6/site-packages/sklearn/utils/validation.py:475: DataConversionWarning: Data with input dtype int64 was converted to float64 by StandardScaler.\n",
      "  warnings.warn(msg, DataConversionWarning)\n",
      "/anaconda3/lib/python3.6/site-packages/sklearn/utils/validation.py:475: DataConversionWarning: Data with input dtype int64 was converted to float64 by StandardScaler.\n",
      "  warnings.warn(msg, DataConversionWarning)\n",
      "/anaconda3/lib/python3.6/site-packages/sklearn/utils/validation.py:475: DataConversionWarning: Data with input dtype int64 was converted to float64 by StandardScaler.\n",
      "  warnings.warn(msg, DataConversionWarning)\n",
      "/anaconda3/lib/python3.6/site-packages/sklearn/utils/validation.py:475: DataConversionWarning: Data with input dtype int64 was converted to float64 by StandardScaler.\n",
      "  warnings.warn(msg, DataConversionWarning)\n",
      "/anaconda3/lib/python3.6/site-packages/sklearn/utils/validation.py:475: DataConversionWarning: Data with input dtype int64 was converted to float64 by StandardScaler.\n",
      "  warnings.warn(msg, DataConversionWarning)\n",
      "/anaconda3/lib/python3.6/site-packages/sklearn/utils/validation.py:475: DataConversionWarning: Data with input dtype int64 was converted to float64 by StandardScaler.\n",
      "  warnings.warn(msg, DataConversionWarning)\n"
     ]
    }
   ],
   "source": [
    "TrainingTestData=[]\n",
    "for i in range(5):\n",
    "    NX[i]= Scaler.fit_transform(NX[i])\n",
    "    TrainingTestData.append(train_test_split(NX[i],L[i][2],test_size=.4, random_state=42))"
   ]
  },
  {
   "cell_type": "code",
   "execution_count": 17,
   "metadata": {},
   "outputs": [
    {
     "data": {
      "text/plain": [
       "5"
      ]
     },
     "execution_count": 17,
     "metadata": {},
     "output_type": "execute_result"
    }
   ],
   "source": [
    "len(TrainingTestData)"
   ]
  },
  {
   "cell_type": "code",
   "execution_count": 17,
   "metadata": {},
   "outputs": [],
   "source": [
    "from sklearn.metrics import accuracy_score\n",
    "from sklearn.ensemble import RandomForestClassifier\n",
    "RFclf = RandomForestClassifier(max_depth=5, n_estimators=10, max_features=1)\n",
    "from sklearn.neighbors import KNeighborsClassifier\n",
    "knnclf = KNeighborsClassifier(3)\n",
    "from sklearn import tree\n",
    "DTclf = tree.DecisionTreeClassifier(max_depth=5)\n",
    "from sklearn.gaussian_process import GaussianProcessClassifier\n",
    "from sklearn.gaussian_process.kernels import RBF\n",
    "GPCclf = GaussianProcessClassifier(1.0 * RBF(1.0))\n",
    "from sklearn.neural_network import MLPClassifier\n",
    "MLPclf = MLPClassifier(alpha=1)\n",
    "from sklearn.naive_bayes import GaussianNB\n",
    "Gussclf = GaussianNB()\n",
    "from sklearn.ensemble import AdaBoostClassifier\n",
    "Adbclf = AdaBoostClassifier()\n",
    "from sklearn.discriminant_analysis import QuadraticDiscriminantAnalysis\n",
    "QDAclf = QuadraticDiscriminantAnalysis()"
   ]
  },
  {
   "cell_type": "code",
   "execution_count": 18,
   "metadata": {},
   "outputs": [],
   "source": [
    "PredictList=[]\n",
    "ScoreList=[]\n",
    "def GetScorePredictValue(L,clf):\n",
    "    clf.fit(L[0],L[2])\n",
    "    Predict = clf.predict(L[1])\n",
    "    Score = clf.score(L[1],L[3])\n",
    "#     accuracy = accuracy_score(L[3],Predict)\n",
    "    return Score\n",
    "    \n",
    "    \n",
    "# for i in TrainingTestData:\n",
    "#     L=[]\n",
    "#     S=[]\n",
    "#     RFclf.fit(i[0],i[2])\n",
    "#     knnclf.fit(i[0],i[2])\n",
    "#     DTclf.fit(i[0],i[2])\n",
    "#     GPCclf.fit(i[0],i[2])\n",
    "#     MLPclf.fit(i[0],i[2])\n",
    "#     Gussclf.fit(i[0],i[2])\n",
    "#     Adbclf.fit(i[0],i[2])\n",
    "#     QDAclf.fit(i[0],i[2])\n",
    "#     L.append(RFclf.predict(i[1]))\n",
    "#     L.append(knnclf.predict(i[1]))\n",
    "#     L.append(DTclf.predict(i[1]))\n",
    "#     L.append(GPCclf.predict(i[1]))\n",
    "#     L.append(MLPclf.predict(i[1]))\n",
    "#     L.append(Gussclf.predict(i[1]))\n",
    "#     L.append(Adbclf.predict(i[1]))\n",
    "#     L.append(QDAclf.predict(i[1]))\n",
    "#     S.append()\n",
    "#     PredictList.append(L)\n",
    "    "
   ]
  },
  {
   "cell_type": "code",
   "execution_count": 20,
   "metadata": {},
   "outputs": [],
   "source": [
    "# accuracyList=[]\n",
    "# for i in range(5):\n",
    "#     L=[]\n",
    "#     L.append(accuracy_score(TrainingTestData[i][3],PredictList[i][0]))\n",
    "#     L.append(accuracy_score(TrainingTestData[i][3],PredictList[i][1]))\n",
    "#     L.append(accuracy_score(TrainingTestData[i][3],PredictList[i][2]))\n",
    "#     L.append(accuracy_score(TrainingTestData[i][3],PredictList[i][3]))\n",
    "#     L.append(accuracy_score(TrainingTestData[i][3],PredictList[i][4]))\n",
    "#     L.append(accuracy_score(TrainingTestData[i][3],PredictList[i][5]))\n",
    "#     L.append(accuracy_score(TrainingTestData[i][3],PredictList[i][6]))\n",
    "#     L.append(accuracy_score(TrainingTestData[i][3],PredictList[i][7]))\n",
    "#     accuracyList.append(L)\n",
    "RFPA=[]\n",
    "for i in TrainingTestData:\n",
    "    RFPA.append(GetScorePredictValue(i,RFclf))"
   ]
  },
  {
   "cell_type": "code",
   "execution_count": 21,
   "metadata": {},
   "outputs": [
    {
     "data": {
      "text/plain": [
       "[(0.3962865542317809, 0.3962865542317809),\n",
       " (0.3912740642627144, 0.3912740642627144),\n",
       " (0.38356030038108047, 0.38356030038108047),\n",
       " (0.37065171091864263, 0.37065171091864263),\n",
       " (0.33651973800672685, 0.33651973800672685)]"
      ]
     },
     "execution_count": 21,
     "metadata": {},
     "output_type": "execute_result"
    }
   ],
   "source": [
    "RFPA"
   ]
  },
  {
   "cell_type": "code",
   "execution_count": 22,
   "metadata": {},
   "outputs": [],
   "source": [
    "AdaPA=[]\n",
    "for i in TrainingTestData:\n",
    "    AdaPA.append(GetScorePredictValue(i,Adbclf))"
   ]
  },
  {
   "cell_type": "code",
   "execution_count": 23,
   "metadata": {},
   "outputs": [
    {
     "data": {
      "text/plain": [
       "[(0.3962865542317809, 0.3962865542317809),\n",
       " (0.39131973783370255, 0.39131973783370255),\n",
       " (0.3842047747141896, 0.3842047747141896),\n",
       " (0.3702967485446543, 0.3702967485446543),\n",
       " (0.3345724907063197, 0.3345724907063197)]"
      ]
     },
     "execution_count": 23,
     "metadata": {},
     "output_type": "execute_result"
    }
   ],
   "source": [
    "AdaPA"
   ]
  },
  {
   "cell_type": "code",
   "execution_count": 26,
   "metadata": {},
   "outputs": [],
   "source": [
    "KnnPA=[]\n",
    "for i in TrainingTestData:\n",
    "    KnnPA.append(GetScorePredictValue(i,knnclf))"
   ]
  },
  {
   "cell_type": "code",
   "execution_count": 27,
   "metadata": {},
   "outputs": [
    {
     "data": {
      "text/plain": [
       "[(0.29372324513899634, 0.29372324513899634),\n",
       " (0.32097102011920803, 0.32097102011920803),\n",
       " (0.3159325263393858, 0.3159325263393858),\n",
       " (0.3130531496994652, 0.3130531496994652),\n",
       " (0.30158730158730157, 0.30158730158730157)]"
      ]
     },
     "execution_count": 27,
     "metadata": {},
     "output_type": "execute_result"
    }
   ],
   "source": [
    "KnnPA"
   ]
  },
  {
   "cell_type": "code",
   "execution_count": 28,
   "metadata": {},
   "outputs": [],
   "source": [
    "DTPA=[]\n",
    "for i in TrainingTestData:\n",
    "    DTPA.append(GetScorePredictValue(i,DTclf))"
   ]
  },
  {
   "cell_type": "code",
   "execution_count": 29,
   "metadata": {},
   "outputs": [
    {
     "data": {
      "text/plain": [
       "[(0.3962865542317809, 0.3962865542317809),\n",
       " (0.3911827171207381, 0.3911827171207381),\n",
       " (0.38356030038108047, 0.38356030038108047),\n",
       " (0.3702257560698566, 0.3702257560698566),\n",
       " (0.33522157313978873, 0.33522157313978873)]"
      ]
     },
     "execution_count": 29,
     "metadata": {},
     "output_type": "execute_result"
    }
   ],
   "source": [
    "DTPA"
   ]
  },
  {
   "cell_type": "code",
   "execution_count": 30,
   "metadata": {},
   "outputs": [],
   "source": [
    "MLRPA=[]\n",
    "for i in TrainingTestData:\n",
    "    MLRPA.append(GetScorePredictValue(i,MLPclf))"
   ]
  },
  {
   "cell_type": "code",
   "execution_count": 32,
   "metadata": {},
   "outputs": [
    {
     "data": {
      "text/plain": [
       "[(0.38736396926092115, 0.38736396926092115),\n",
       " (0.39131973783370255, 0.39131973783370255),\n",
       " (0.3842327953373683, 0.3842327953373683),\n",
       " (0.3706753750769085, 0.3706753750769085),\n",
       " (0.33710981294624415, 0.33710981294624415)]"
      ]
     },
     "execution_count": 32,
     "metadata": {},
     "output_type": "execute_result"
    }
   ],
   "source": [
    "MLRPA"
   ]
  },
  {
   "cell_type": "code",
   "execution_count": 33,
   "metadata": {},
   "outputs": [],
   "source": [
    "GussPA=[]\n",
    "for i in TrainingTestData:\n",
    "    GussPA.append(GetScorePredictValue(i,Gussclf))"
   ]
  },
  {
   "cell_type": "code",
   "execution_count": 34,
   "metadata": {},
   "outputs": [
    {
     "data": {
      "text/plain": [
       "[0.38736396926092115,\n",
       " 0.39131973783370255,\n",
       " 0.3842327953373683,\n",
       " 0.3706753750769085,\n",
       " 0.3364017230188234]"
      ]
     },
     "execution_count": 34,
     "metadata": {},
     "output_type": "execute_result"
    }
   ],
   "source": [
    "GussPA"
   ]
  },
  {
   "cell_type": "code",
   "execution_count": 35,
   "metadata": {},
   "outputs": [],
   "source": [
    "QdaPA=[]\n",
    "for i in TrainingTestData:\n",
    "    QdaPA.append(GetScorePredictValue(i,QDAclf))"
   ]
  },
  {
   "cell_type": "code",
   "execution_count": 36,
   "metadata": {},
   "outputs": [
    {
     "data": {
      "text/plain": [
       "[0.38736396926092115,\n",
       " 0.39131973783370255,\n",
       " 0.3842327953373683,\n",
       " 0.3706753750769085,\n",
       " 0.3364017230188234]"
      ]
     },
     "execution_count": 36,
     "metadata": {},
     "output_type": "execute_result"
    }
   ],
   "source": [
    "QdaPA"
   ]
  },
  {
   "cell_type": "code",
   "execution_count": null,
   "metadata": {},
   "outputs": [],
   "source": [
    "GPCPA=[]\n",
    "for i in TrainingTestData:\n",
    "    GPCPA.append(GetScorePredictValue(i,GPCclf))"
   ]
  },
  {
   "cell_type": "code",
   "execution_count": 1,
   "metadata": {},
   "outputs": [
    {
     "name": "stderr",
     "output_type": "stream",
     "text": [
      "/anaconda3/lib/python3.6/importlib/_bootstrap.py:219: RuntimeWarning: numpy.dtype size changed, may indicate binary incompatibility. Expected 96, got 88\n",
      "  return f(*args, **kwds)\n"
     ]
    }
   ],
   "source": [
    "from sklearn.svm import  SVC\n",
    "SVCgamma = SVC(gamma=2,C=1)"
   ]
  },
  {
   "cell_type": "code",
   "execution_count": 2,
   "metadata": {},
   "outputs": [],
   "source": [
    "SVClinear= SVC(kernel=\"linear\", C=0.025)"
   ]
  },
  {
   "cell_type": "code",
   "execution_count": 19,
   "metadata": {},
   "outputs": [
    {
     "ename": "KeyboardInterrupt",
     "evalue": "",
     "output_type": "error",
     "traceback": [
      "\u001b[0;31m---------------------------------------------------------------------------\u001b[0m",
      "\u001b[0;31mKeyboardInterrupt\u001b[0m                         Traceback (most recent call last)",
      "\u001b[0;32m<ipython-input-19-d42c6a585400>\u001b[0m in \u001b[0;36m<module>\u001b[0;34m()\u001b[0m\n\u001b[1;32m      1\u001b[0m \u001b[0mSVCgammaPA\u001b[0m\u001b[0;34m=\u001b[0m\u001b[0;34m[\u001b[0m\u001b[0;34m]\u001b[0m\u001b[0;34m\u001b[0m\u001b[0m\n\u001b[1;32m      2\u001b[0m \u001b[0;32mfor\u001b[0m \u001b[0mi\u001b[0m \u001b[0;32min\u001b[0m \u001b[0mTrainingTestData\u001b[0m\u001b[0;34m:\u001b[0m\u001b[0;34m\u001b[0m\u001b[0m\n\u001b[0;32m----> 3\u001b[0;31m     \u001b[0mSVCgammaPA\u001b[0m\u001b[0;34m.\u001b[0m\u001b[0mappend\u001b[0m\u001b[0;34m(\u001b[0m\u001b[0mGetScorePredictValue\u001b[0m\u001b[0;34m(\u001b[0m\u001b[0mi\u001b[0m\u001b[0;34m,\u001b[0m\u001b[0mSVCgamma\u001b[0m\u001b[0;34m)\u001b[0m\u001b[0;34m)\u001b[0m\u001b[0;34m\u001b[0m\u001b[0m\n\u001b[0m",
      "\u001b[0;32m<ipython-input-18-a53fa60bb35f>\u001b[0m in \u001b[0;36mGetScorePredictValue\u001b[0;34m(L, clf)\u001b[0m\n\u001b[1;32m      2\u001b[0m \u001b[0mScoreList\u001b[0m\u001b[0;34m=\u001b[0m\u001b[0;34m[\u001b[0m\u001b[0;34m]\u001b[0m\u001b[0;34m\u001b[0m\u001b[0m\n\u001b[1;32m      3\u001b[0m \u001b[0;32mdef\u001b[0m \u001b[0mGetScorePredictValue\u001b[0m\u001b[0;34m(\u001b[0m\u001b[0mL\u001b[0m\u001b[0;34m,\u001b[0m\u001b[0mclf\u001b[0m\u001b[0;34m)\u001b[0m\u001b[0;34m:\u001b[0m\u001b[0;34m\u001b[0m\u001b[0m\n\u001b[0;32m----> 4\u001b[0;31m     \u001b[0mclf\u001b[0m\u001b[0;34m.\u001b[0m\u001b[0mfit\u001b[0m\u001b[0;34m(\u001b[0m\u001b[0mL\u001b[0m\u001b[0;34m[\u001b[0m\u001b[0;36m0\u001b[0m\u001b[0;34m]\u001b[0m\u001b[0;34m,\u001b[0m\u001b[0mL\u001b[0m\u001b[0;34m[\u001b[0m\u001b[0;36m2\u001b[0m\u001b[0;34m]\u001b[0m\u001b[0;34m)\u001b[0m\u001b[0;34m\u001b[0m\u001b[0m\n\u001b[0m\u001b[1;32m      5\u001b[0m     \u001b[0mPredict\u001b[0m \u001b[0;34m=\u001b[0m \u001b[0mclf\u001b[0m\u001b[0;34m.\u001b[0m\u001b[0mpredict\u001b[0m\u001b[0;34m(\u001b[0m\u001b[0mL\u001b[0m\u001b[0;34m[\u001b[0m\u001b[0;36m1\u001b[0m\u001b[0;34m]\u001b[0m\u001b[0;34m)\u001b[0m\u001b[0;34m\u001b[0m\u001b[0m\n\u001b[1;32m      6\u001b[0m     \u001b[0mScore\u001b[0m \u001b[0;34m=\u001b[0m \u001b[0mclf\u001b[0m\u001b[0;34m.\u001b[0m\u001b[0mscore\u001b[0m\u001b[0;34m(\u001b[0m\u001b[0mL\u001b[0m\u001b[0;34m[\u001b[0m\u001b[0;36m1\u001b[0m\u001b[0;34m]\u001b[0m\u001b[0;34m,\u001b[0m\u001b[0mL\u001b[0m\u001b[0;34m[\u001b[0m\u001b[0;36m3\u001b[0m\u001b[0;34m]\u001b[0m\u001b[0;34m)\u001b[0m\u001b[0;34m\u001b[0m\u001b[0m\n",
      "\u001b[0;32m/anaconda3/lib/python3.6/site-packages/sklearn/svm/base.py\u001b[0m in \u001b[0;36mfit\u001b[0;34m(self, X, y, sample_weight)\u001b[0m\n\u001b[1;32m    185\u001b[0m \u001b[0;34m\u001b[0m\u001b[0m\n\u001b[1;32m    186\u001b[0m         \u001b[0mseed\u001b[0m \u001b[0;34m=\u001b[0m \u001b[0mrnd\u001b[0m\u001b[0;34m.\u001b[0m\u001b[0mrandint\u001b[0m\u001b[0;34m(\u001b[0m\u001b[0mnp\u001b[0m\u001b[0;34m.\u001b[0m\u001b[0miinfo\u001b[0m\u001b[0;34m(\u001b[0m\u001b[0;34m'i'\u001b[0m\u001b[0;34m)\u001b[0m\u001b[0;34m.\u001b[0m\u001b[0mmax\u001b[0m\u001b[0;34m)\u001b[0m\u001b[0;34m\u001b[0m\u001b[0m\n\u001b[0;32m--> 187\u001b[0;31m         \u001b[0mfit\u001b[0m\u001b[0;34m(\u001b[0m\u001b[0mX\u001b[0m\u001b[0;34m,\u001b[0m \u001b[0my\u001b[0m\u001b[0;34m,\u001b[0m \u001b[0msample_weight\u001b[0m\u001b[0;34m,\u001b[0m \u001b[0msolver_type\u001b[0m\u001b[0;34m,\u001b[0m \u001b[0mkernel\u001b[0m\u001b[0;34m,\u001b[0m \u001b[0mrandom_seed\u001b[0m\u001b[0;34m=\u001b[0m\u001b[0mseed\u001b[0m\u001b[0;34m)\u001b[0m\u001b[0;34m\u001b[0m\u001b[0m\n\u001b[0m\u001b[1;32m    188\u001b[0m         \u001b[0;31m# see comment on the other call to np.iinfo in this file\u001b[0m\u001b[0;34m\u001b[0m\u001b[0;34m\u001b[0m\u001b[0m\n\u001b[1;32m    189\u001b[0m \u001b[0;34m\u001b[0m\u001b[0m\n",
      "\u001b[0;32m/anaconda3/lib/python3.6/site-packages/sklearn/svm/base.py\u001b[0m in \u001b[0;36m_dense_fit\u001b[0;34m(self, X, y, sample_weight, solver_type, kernel, random_seed)\u001b[0m\n\u001b[1;32m    252\u001b[0m                 \u001b[0mcache_size\u001b[0m\u001b[0;34m=\u001b[0m\u001b[0mself\u001b[0m\u001b[0;34m.\u001b[0m\u001b[0mcache_size\u001b[0m\u001b[0;34m,\u001b[0m \u001b[0mcoef0\u001b[0m\u001b[0;34m=\u001b[0m\u001b[0mself\u001b[0m\u001b[0;34m.\u001b[0m\u001b[0mcoef0\u001b[0m\u001b[0;34m,\u001b[0m\u001b[0;34m\u001b[0m\u001b[0m\n\u001b[1;32m    253\u001b[0m                 \u001b[0mgamma\u001b[0m\u001b[0;34m=\u001b[0m\u001b[0mself\u001b[0m\u001b[0;34m.\u001b[0m\u001b[0m_gamma\u001b[0m\u001b[0;34m,\u001b[0m \u001b[0mepsilon\u001b[0m\u001b[0;34m=\u001b[0m\u001b[0mself\u001b[0m\u001b[0;34m.\u001b[0m\u001b[0mepsilon\u001b[0m\u001b[0;34m,\u001b[0m\u001b[0;34m\u001b[0m\u001b[0m\n\u001b[0;32m--> 254\u001b[0;31m                 max_iter=self.max_iter, random_seed=random_seed)\n\u001b[0m\u001b[1;32m    255\u001b[0m \u001b[0;34m\u001b[0m\u001b[0m\n\u001b[1;32m    256\u001b[0m         \u001b[0mself\u001b[0m\u001b[0;34m.\u001b[0m\u001b[0m_warn_from_fit_status\u001b[0m\u001b[0;34m(\u001b[0m\u001b[0;34m)\u001b[0m\u001b[0;34m\u001b[0m\u001b[0m\n",
      "\u001b[0;31mKeyboardInterrupt\u001b[0m: "
     ]
    }
   ],
   "source": [
    "SVCgammaPA=[]\n",
    "for i in TrainingTestData:\n",
    "    SVCgammaPA.append(GetScorePredictValue(i,SVCgamma))"
   ]
  },
  {
   "cell_type": "code",
   "execution_count": null,
   "metadata": {},
   "outputs": [],
   "source": [
    "SVLingammaPA=[]\n",
    "for i in TrainingTestData:\n",
    "    SVLingammaPA.append(GetScorePredictValue(i,SVClinear))"
   ]
  },
  {
   "cell_type": "code",
   "execution_count": null,
   "metadata": {},
   "outputs": [],
   "source": []
  }
 ],
 "metadata": {
  "kernelspec": {
   "display_name": "Python 3",
   "language": "python",
   "name": "python3"
  },
  "language_info": {
   "codemirror_mode": {
    "name": "ipython",
    "version": 3
   },
   "file_extension": ".py",
   "mimetype": "text/x-python",
   "name": "python",
   "nbconvert_exporter": "python",
   "pygments_lexer": "ipython3",
   "version": "3.6.5"
  }
 },
 "nbformat": 4,
 "nbformat_minor": 2
}
