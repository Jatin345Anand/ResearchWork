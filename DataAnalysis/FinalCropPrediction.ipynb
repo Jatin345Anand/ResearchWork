{
 "cells": [
  {
   "cell_type": "code",
   "execution_count": 1,
   "metadata": {},
   "outputs": [],
   "source": [
    "import seaborn as sns\n",
    "import matplotlib.pyplot as plt\n",
    "import pandas as pd\n",
    "crops = pd.read_csv('crop_production.csv')"
   ]
  },
  {
   "cell_type": "code",
   "execution_count": 2,
   "metadata": {},
   "outputs": [
    {
     "data": {
      "text/plain": [
       "(246091, 7)"
      ]
     },
     "execution_count": 2,
     "metadata": {},
     "output_type": "execute_result"
    }
   ],
   "source": [
    "crops.shape"
   ]
  },
  {
   "cell_type": "code",
   "execution_count": 3,
   "metadata": {},
   "outputs": [
    {
     "data": {
      "text/html": [
       "<div>\n",
       "<style scoped>\n",
       "    .dataframe tbody tr th:only-of-type {\n",
       "        vertical-align: middle;\n",
       "    }\n",
       "\n",
       "    .dataframe tbody tr th {\n",
       "        vertical-align: top;\n",
       "    }\n",
       "\n",
       "    .dataframe thead th {\n",
       "        text-align: right;\n",
       "    }\n",
       "</style>\n",
       "<table border=\"1\" class=\"dataframe\">\n",
       "  <thead>\n",
       "    <tr style=\"text-align: right;\">\n",
       "      <th></th>\n",
       "      <th>State_Name</th>\n",
       "      <th>District_Name</th>\n",
       "      <th>Crop_Year</th>\n",
       "      <th>Season</th>\n",
       "      <th>Crop</th>\n",
       "      <th>Area</th>\n",
       "      <th>Production</th>\n",
       "    </tr>\n",
       "  </thead>\n",
       "  <tbody>\n",
       "    <tr>\n",
       "      <th>0</th>\n",
       "      <td>Andaman and Nicobar Islands</td>\n",
       "      <td>NICOBARS</td>\n",
       "      <td>2000</td>\n",
       "      <td>Kharif</td>\n",
       "      <td>Arecanut</td>\n",
       "      <td>1254.0</td>\n",
       "      <td>2000.0</td>\n",
       "    </tr>\n",
       "    <tr>\n",
       "      <th>1</th>\n",
       "      <td>Andaman and Nicobar Islands</td>\n",
       "      <td>NICOBARS</td>\n",
       "      <td>2000</td>\n",
       "      <td>Kharif</td>\n",
       "      <td>Other Kharif pulses</td>\n",
       "      <td>2.0</td>\n",
       "      <td>1.0</td>\n",
       "    </tr>\n",
       "    <tr>\n",
       "      <th>2</th>\n",
       "      <td>Andaman and Nicobar Islands</td>\n",
       "      <td>NICOBARS</td>\n",
       "      <td>2000</td>\n",
       "      <td>Kharif</td>\n",
       "      <td>Rice</td>\n",
       "      <td>102.0</td>\n",
       "      <td>321.0</td>\n",
       "    </tr>\n",
       "    <tr>\n",
       "      <th>3</th>\n",
       "      <td>Andaman and Nicobar Islands</td>\n",
       "      <td>NICOBARS</td>\n",
       "      <td>2000</td>\n",
       "      <td>Whole Year</td>\n",
       "      <td>Banana</td>\n",
       "      <td>176.0</td>\n",
       "      <td>641.0</td>\n",
       "    </tr>\n",
       "    <tr>\n",
       "      <th>4</th>\n",
       "      <td>Andaman and Nicobar Islands</td>\n",
       "      <td>NICOBARS</td>\n",
       "      <td>2000</td>\n",
       "      <td>Whole Year</td>\n",
       "      <td>Cashewnut</td>\n",
       "      <td>720.0</td>\n",
       "      <td>165.0</td>\n",
       "    </tr>\n",
       "  </tbody>\n",
       "</table>\n",
       "</div>"
      ],
      "text/plain": [
       "                    State_Name District_Name  Crop_Year       Season  \\\n",
       "0  Andaman and Nicobar Islands      NICOBARS       2000  Kharif        \n",
       "1  Andaman and Nicobar Islands      NICOBARS       2000  Kharif        \n",
       "2  Andaman and Nicobar Islands      NICOBARS       2000  Kharif        \n",
       "3  Andaman and Nicobar Islands      NICOBARS       2000  Whole Year    \n",
       "4  Andaman and Nicobar Islands      NICOBARS       2000  Whole Year    \n",
       "\n",
       "                  Crop    Area  Production  \n",
       "0             Arecanut  1254.0      2000.0  \n",
       "1  Other Kharif pulses     2.0         1.0  \n",
       "2                 Rice   102.0       321.0  \n",
       "3               Banana   176.0       641.0  \n",
       "4            Cashewnut   720.0       165.0  "
      ]
     },
     "execution_count": 3,
     "metadata": {},
     "output_type": "execute_result"
    }
   ],
   "source": [
    "crops.head()"
   ]
  },
  {
   "cell_type": "code",
   "execution_count": 5,
   "metadata": {},
   "outputs": [],
   "source": [
    "Seasoncount=pd.value_counts(crops['Season'])"
   ]
  },
  {
   "cell_type": "code",
   "execution_count": 6,
   "metadata": {},
   "outputs": [
    {
     "name": "stdout",
     "output_type": "stream",
     "text": [
      "6 <class 'pandas.core.series.Series'>\n"
     ]
    }
   ],
   "source": [
    "print(len(Seasoncount),type(Seasoncount))"
   ]
  },
  {
   "cell_type": "code",
   "execution_count": 7,
   "metadata": {},
   "outputs": [
    {
     "name": "stdout",
     "output_type": "stream",
     "text": [
      "95951\n",
      "66987\n",
      "57305\n",
      "14841\n",
      "6058\n",
      "4949\n"
     ]
    }
   ],
   "source": [
    "for i in Seasoncount:\n",
    "    print(i)"
   ]
  },
  {
   "cell_type": "code",
   "execution_count": 8,
   "metadata": {},
   "outputs": [],
   "source": [
    "Cropcount=pd.value_counts(crops['Crop'])"
   ]
  },
  {
   "cell_type": "code",
   "execution_count": 42,
   "metadata": {},
   "outputs": [
    {
     "data": {
      "text/plain": [
       "15104"
      ]
     },
     "execution_count": 42,
     "metadata": {},
     "output_type": "execute_result"
    }
   ],
   "source": [
    "Cropcount[0]"
   ]
  },
  {
   "cell_type": "code",
   "execution_count": 14,
   "metadata": {},
   "outputs": [],
   "source": [
    "DistrictNameCount = pd.value_counts(crops['District_Name'])"
   ]
  },
  {
   "cell_type": "code",
   "execution_count": 15,
   "metadata": {},
   "outputs": [
    {
     "data": {
      "text/plain": [
       "BIJAPUR                     945\n",
       "TUMKUR                      936\n",
       "BELGAUM                     925\n",
       "HASSAN                      895\n",
       "BELLARY                     887\n",
       "DAVANGERE                   886\n",
       "AURANGABAD                  879\n",
       "HAVERI                      870\n",
       "CHAMARAJANAGAR              844\n",
       "CHITRADURGA                 840\n",
       "GULBARGA                    833\n",
       "MYSORE                      832\n",
       "KURNOOL                     828\n",
       "DHARWAD                     825\n",
       "SHIMOGA                     825\n",
       "KADAPA                      824\n",
       "CHIKMAGALUR                 820\n",
       "BILASPUR                    815\n",
       "VISAKHAPATANAM              812\n",
       "PRAKASAM                    808\n",
       "BANGALORE RURAL             794\n",
       "CHITTOOR                    789\n",
       "ANANTAPUR                   788\n",
       "BIDAR                       781\n",
       "MANDYA                      780\n",
       "EAST GODAVARI               765\n",
       "GADAG                       755\n",
       "VIZIANAGARAM                741\n",
       "BAGALKOT                    733\n",
       "MEDAK                       714\n",
       "                           ... \n",
       "DEOGHAR                      50\n",
       "NORTH AND MIDDLE ANDAMAN     50\n",
       "EAST SINGHBUM                45\n",
       "BOKARO                       45\n",
       "KUPWARA                      44\n",
       "JAMTARA                      44\n",
       "SARAIKELA KHARSAWAN          42\n",
       "SERCHHIP                     41\n",
       "SAMBA                        40\n",
       "DHANBAD                      38\n",
       "REASI                        37\n",
       "WEST JAINTIA HILLS           37\n",
       "KARGIL                       37\n",
       "SOUTH WEST KHASI HILLS       35\n",
       "KISHTWAR                     30\n",
       "AGAR MALWA                   28\n",
       "PATHANKOT                    26\n",
       "FAZILKA                      25\n",
       "KULGAM                       25\n",
       "BANDIPORA                    22\n",
       "GANDERBAL                    14\n",
       "LONGDING                     13\n",
       "RAMBAN                       13\n",
       "SHOPIAN                      13\n",
       "PALGHAR                      11\n",
       "HYDERABAD                     8\n",
       "KHUNTI                        6\n",
       "RAMGARH                       6\n",
       "NAMSAI                        1\n",
       "MUMBAI                        1\n",
       "Name: District_Name, Length: 646, dtype: int64"
      ]
     },
     "execution_count": 15,
     "metadata": {},
     "output_type": "execute_result"
    }
   ],
   "source": [
    "DistrictNameCount"
   ]
  },
  {
   "cell_type": "code",
   "execution_count": 16,
   "metadata": {},
   "outputs": [],
   "source": [
    "IndianstateNameCount = pd.value_counts(crops['State_Name'])"
   ]
  },
  {
   "cell_type": "code",
   "execution_count": 17,
   "metadata": {},
   "outputs": [
    {
     "data": {
      "text/plain": [
       "Uttar Pradesh                  33306\n",
       "Madhya Pradesh                 22943\n",
       "Karnataka                      21122\n",
       "Bihar                          18885\n",
       "Assam                          14628\n",
       "Odisha                         13575\n",
       "Tamil Nadu                     13547\n",
       "Maharashtra                    12628\n",
       "Rajasthan                      12514\n",
       "Chhattisgarh                   10709\n",
       "Andhra Pradesh                  9628\n",
       "West Bengal                     9613\n",
       "Gujarat                         8436\n",
       "Haryana                         5875\n",
       "Telangana                       5649\n",
       "Uttarakhand                     4896\n",
       "Kerala                          4261\n",
       "Nagaland                        3906\n",
       "Punjab                          3173\n",
       "Meghalaya                       2867\n",
       "Arunachal Pradesh               2546\n",
       "Himachal Pradesh                2494\n",
       "Jammu and Kashmir               1634\n",
       "Tripura                         1412\n",
       "Manipur                         1267\n",
       "Jharkhand                       1266\n",
       "Mizoram                          957\n",
       "Puducherry                       876\n",
       "Sikkim                           714\n",
       "Dadra and Nagar Haveli           263\n",
       "Goa                              208\n",
       "Andaman and Nicobar Islands      203\n",
       "Chandigarh                        90\n",
       "Name: State_Name, dtype: int64"
      ]
     },
     "execution_count": 17,
     "metadata": {},
     "output_type": "execute_result"
    }
   ],
   "source": [
    " IndianstateNameCount"
   ]
  },
  {
   "cell_type": "code",
   "execution_count": 18,
   "metadata": {},
   "outputs": [
    {
     "data": {
      "text/plain": [
       "33"
      ]
     },
     "execution_count": 18,
     "metadata": {},
     "output_type": "execute_result"
    }
   ],
   "source": [
    "len(IndianstateNameCount)"
   ]
  },
  {
   "cell_type": "code",
   "execution_count": 19,
   "metadata": {},
   "outputs": [
    {
     "data": {
      "text/plain": [
       "array([33306, 22943, 21122, 18885, 14628, 13575, 13547, 12628, 12514,\n",
       "       10709,  9628,  9613,  8436,  5875,  5649,  4896,  4261,  3906,\n",
       "        3173,  2867,  2546,  2494,  1634,  1412,  1267,  1266,   957,\n",
       "         876,   714,   263,   208,   203,    90])"
      ]
     },
     "execution_count": 19,
     "metadata": {},
     "output_type": "execute_result"
    }
   ],
   "source": [
    "pd.unique(IndianstateNameCount)"
   ]
  },
  {
   "cell_type": "code",
   "execution_count": 20,
   "metadata": {},
   "outputs": [
    {
     "data": {
      "text/plain": [
       "array([15104, 13947, 10318,  9850,  9046,  8834,  7921,  7899,  7592,\n",
       "        7578,  7361,  7065,  7012,  6931,  6489,  5571,  5427,  4652,\n",
       "        4524,  4518,  4405,  4224,  4202,  4199,  4198,  4145,  3902,\n",
       "        3659,  3376,  3369,  3289,  3212,  3209,  3180,  3008,  2698,\n",
       "        2395,  2070,  1985,  1787,  1586,  1577,  1453,  1360,  1335,\n",
       "        1295,  1081,   934,   878,   633,   628,   587,   483,   479,\n",
       "         449,   427,   426,   410,   386,   381,   368,   301,   297,\n",
       "         271,   266,   247,   241,   236,   205,   188,   167,   129,\n",
       "         126,   122,   118,   112,    93,    92,    87,    85,    84,\n",
       "          82,    70,    69,    66,    62,    61,    58,    48,    44,\n",
       "          39,    38,    36,    35,    31,    29,    28,    21,    20,\n",
       "          18,    16,    12,    11,    10,     9,     8,     6,     4,\n",
       "           1])"
      ]
     },
     "execution_count": 20,
     "metadata": {},
     "output_type": "execute_result"
    }
   ],
   "source": [
    "pd.unique(Cropcount)"
   ]
  },
  {
   "cell_type": "code",
   "execution_count": 21,
   "metadata": {},
   "outputs": [
    {
     "data": {
      "text/plain": [
       "(415,)"
      ]
     },
     "execution_count": 21,
     "metadata": {},
     "output_type": "execute_result"
    }
   ],
   "source": [
    "pd.unique(DistrictNameCount).shape"
   ]
  },
  {
   "cell_type": "code",
   "execution_count": 23,
   "metadata": {},
   "outputs": [],
   "source": [
    "crops.dropna(inplace=True)"
   ]
  },
  {
   "cell_type": "code",
   "execution_count": 24,
   "metadata": {},
   "outputs": [
    {
     "data": {
      "text/plain": [
       "(242361, 7)"
      ]
     },
     "execution_count": 24,
     "metadata": {},
     "output_type": "execute_result"
    }
   ],
   "source": [
    "crops.shape"
   ]
  },
  {
   "cell_type": "code",
   "execution_count": 35,
   "metadata": {},
   "outputs": [
    {
     "data": {
      "text/plain": [
       "0           1254.0\n",
       "1              2.0\n",
       "2            102.0\n",
       "3            176.0\n",
       "4            720.0\n",
       "5          18168.0\n",
       "6             36.0\n",
       "7              1.0\n",
       "8              5.0\n",
       "9             40.0\n",
       "10          1254.0\n",
       "11             2.0\n",
       "12            83.0\n",
       "13           719.0\n",
       "14         18190.0\n",
       "15            46.0\n",
       "16             1.0\n",
       "17            11.0\n",
       "18           189.2\n",
       "19          1258.0\n",
       "20           213.0\n",
       "21            63.0\n",
       "22           719.0\n",
       "23         18240.0\n",
       "24           413.0\n",
       "25            47.3\n",
       "26             5.0\n",
       "27            52.0\n",
       "28          1261.0\n",
       "29           266.0\n",
       "            ...   \n",
       "246061        49.0\n",
       "246062       159.0\n",
       "246063       181.0\n",
       "246064        16.0\n",
       "246065       204.0\n",
       "246066        79.0\n",
       "246067       171.0\n",
       "246068        18.0\n",
       "246069        46.0\n",
       "246070     11493.0\n",
       "246071       671.0\n",
       "246072       198.0\n",
       "246073        30.0\n",
       "246074       660.0\n",
       "246075       146.0\n",
       "246076       160.0\n",
       "246077        31.0\n",
       "246078        64.0\n",
       "246079        12.0\n",
       "246080       477.0\n",
       "246081      1885.0\n",
       "246082        54.0\n",
       "246083       220.0\n",
       "246084      1622.0\n",
       "246085       325.0\n",
       "246086       306.0\n",
       "246087       627.0\n",
       "246088       324.0\n",
       "246089    279151.0\n",
       "246090       175.0\n",
       "Name: Area, Length: 242361, dtype: float64"
      ]
     },
     "execution_count": 35,
     "metadata": {},
     "output_type": "execute_result"
    }
   ],
   "source": [
    "crops['Area']"
   ]
  },
  {
   "cell_type": "code",
   "execution_count": 65,
   "metadata": {},
   "outputs": [],
   "source": [
    "import numpy as np\n",
    "X1= crops['Area'].values\n",
    "X2= crops['Production'].values\n",
    "nx1= np.array(X1)\n",
    "nx2= np.array(X2)\n",
    "Y= crops['Season']\n",
    "X= crops.iloc[:,5:].values"
   ]
  },
  {
   "cell_type": "code",
   "execution_count": 94,
   "metadata": {},
   "outputs": [],
   "source": [
    "L1=[]\n",
    "L2=[]\n",
    "for i in range(len(nx1)):\n",
    "    if(len(str(int(round(nx1[i]))))>1):\n",
    "        L1.append(int(str(int(round(nx1[i])))[:2]))\n",
    "#         print(int(str(int(round(nx1[i])))[:2]))\n",
    "    else:\n",
    "        L1.append(int(round(nx1[i])))\n",
    "#         print(int(round(nx1[i])))\n",
    "for i in range(len(nx2)):\n",
    "    if(len(str(int(round(nx2[i]))))>1):\n",
    "        L2.append(int(str(int(round(nx2[i])))[:2]))\n",
    "#         print(int(str(int(round(nx1[i])))[:2]))\n",
    "    else:\n",
    "        L2.append(int(round(nx2[i])))\n",
    "#         print(int(round(nx1[i])))\n",
    "nx1= np.array(L1)\n",
    "nx2= np.array(L2)"
   ]
  },
  {
   "cell_type": "code",
   "execution_count": 97,
   "metadata": {},
   "outputs": [
    {
     "data": {
      "text/plain": [
       "242361"
      ]
     },
     "execution_count": 97,
     "metadata": {},
     "output_type": "execute_result"
    }
   ],
   "source": [
    "len(nx2)"
   ]
  },
  {
   "cell_type": "code",
   "execution_count": 98,
   "metadata": {},
   "outputs": [],
   "source": [
    "nx= np.vstack((nx1,nx2)).T"
   ]
  },
  {
   "cell_type": "code",
   "execution_count": 99,
   "metadata": {},
   "outputs": [
    {
     "data": {
      "text/plain": [
       "array([[12, 20],\n",
       "       [ 2,  1],\n",
       "       [10, 32],\n",
       "       ...,\n",
       "       [32, 16],\n",
       "       [27, 59],\n",
       "       [17, 88]])"
      ]
     },
     "execution_count": 99,
     "metadata": {},
     "output_type": "execute_result"
    }
   ],
   "source": [
    "nx"
   ]
  },
  {
   "cell_type": "code",
   "execution_count": 102,
   "metadata": {},
   "outputs": [
    {
     "data": {
      "text/plain": [
       "array([[12, 20],\n",
       "       [ 2,  1],\n",
       "       [10, 32],\n",
       "       ...,\n",
       "       [32, 16],\n",
       "       [27, 59],\n",
       "       [17, 88]])"
      ]
     },
     "execution_count": 102,
     "metadata": {},
     "output_type": "execute_result"
    }
   ],
   "source": [
    "nx"
   ]
  },
  {
   "cell_type": "code",
   "execution_count": 103,
   "metadata": {},
   "outputs": [
    {
     "data": {
      "text/plain": [
       "array([[1.25400e+03, 2.00000e+03],\n",
       "       [2.00000e+00, 1.00000e+00],\n",
       "       [1.02000e+02, 3.21000e+02],\n",
       "       ...,\n",
       "       [3.24000e+02, 1.62500e+04],\n",
       "       [2.79151e+05, 5.97899e+05],\n",
       "       [1.75000e+02, 8.80000e+01]])"
      ]
     },
     "execution_count": 103,
     "metadata": {},
     "output_type": "execute_result"
    }
   ],
   "source": [
    "X"
   ]
  },
  {
   "cell_type": "code",
   "execution_count": 104,
   "metadata": {},
   "outputs": [],
   "source": [
    "from sklearn.preprocessing import  StandardScaler\n",
    "Scaler = StandardScaler()"
   ]
  },
  {
   "cell_type": "code",
   "execution_count": 105,
   "metadata": {},
   "outputs": [
    {
     "name": "stderr",
     "output_type": "stream",
     "text": [
      "/anaconda3/lib/python3.6/site-packages/sklearn/utils/validation.py:475: DataConversionWarning: Data with input dtype int64 was converted to float64 by StandardScaler.\n",
      "  warnings.warn(msg, DataConversionWarning)\n"
     ]
    }
   ],
   "source": [
    "nx11= Scaler.fit(nx)"
   ]
  },
  {
   "cell_type": "code",
   "execution_count": 106,
   "metadata": {},
   "outputs": [
    {
     "data": {
      "text/plain": [
       "StandardScaler(copy=True, with_mean=True, with_std=True)"
      ]
     },
     "execution_count": 106,
     "metadata": {},
     "output_type": "execute_result"
    }
   ],
   "source": [
    "nx11"
   ]
  },
  {
   "cell_type": "code",
   "execution_count": 107,
   "metadata": {},
   "outputs": [
    {
     "data": {
      "text/plain": [
       "array([34.47527861, 33.61868452])"
      ]
     },
     "execution_count": 107,
     "metadata": {},
     "output_type": "execute_result"
    }
   ],
   "source": [
    "Scaler.mean_"
   ]
  },
  {
   "cell_type": "code",
   "execution_count": 108,
   "metadata": {},
   "outputs": [],
   "source": [
    "PARAM=Scaler.get_params"
   ]
  },
  {
   "cell_type": "code",
   "execution_count": 109,
   "metadata": {},
   "outputs": [
    {
     "data": {
      "text/plain": [
       "<bound method BaseEstimator.get_params of StandardScaler(copy=True, with_mean=True, with_std=True)>"
      ]
     },
     "execution_count": 109,
     "metadata": {},
     "output_type": "execute_result"
    }
   ],
   "source": [
    "PARAM"
   ]
  },
  {
   "cell_type": "code",
   "execution_count": 111,
   "metadata": {},
   "outputs": [
    {
     "name": "stderr",
     "output_type": "stream",
     "text": [
      "/anaconda3/lib/python3.6/site-packages/sklearn/utils/validation.py:475: DataConversionWarning: Data with input dtype int64 was converted to float64 by StandardScaler.\n",
      "  warnings.warn(msg, DataConversionWarning)\n"
     ]
    },
    {
     "data": {
      "text/plain": [
       "array([[-0.89034736, -0.53954986],\n",
       "       [-1.28649256, -1.29229857],\n",
       "       [-0.9695764 , -0.06412962],\n",
       "       ...,\n",
       "       [-0.09805697, -0.69802327],\n",
       "       [-0.29612957,  1.00556592],\n",
       "       [-0.69227477,  2.15449817]])"
      ]
     },
     "execution_count": 111,
     "metadata": {},
     "output_type": "execute_result"
    }
   ],
   "source": [
    "Scaler.transform(nx)"
   ]
  },
  {
   "cell_type": "code",
   "execution_count": 120,
   "metadata": {},
   "outputs": [],
   "source": [
    "from sklearn.neighbors import KNeighborsClassifier\n",
    "kclf = KNeighborsClassifier()\n"
   ]
  },
  {
   "cell_type": "code",
   "execution_count": 121,
   "metadata": {},
   "outputs": [],
   "source": [
    "from sklearn.model_selection import train_test_split\n",
    "x_train,x_test,y_train,y_test =  train_test_split(nx,Y,test_size=0.25)"
   ]
  },
  {
   "cell_type": "code",
   "execution_count": 123,
   "metadata": {},
   "outputs": [
    {
     "name": "stderr",
     "output_type": "stream",
     "text": [
      "/anaconda3/lib/python3.6/site-packages/sklearn/utils/validation.py:475: DataConversionWarning: Data with input dtype int64 was converted to float64 by StandardScaler.\n",
      "  warnings.warn(msg, DataConversionWarning)\n",
      "/anaconda3/lib/python3.6/site-packages/sklearn/utils/validation.py:475: DataConversionWarning: Data with input dtype int64 was converted to float64 by StandardScaler.\n",
      "  warnings.warn(msg, DataConversionWarning)\n",
      "/anaconda3/lib/python3.6/site-packages/sklearn/utils/validation.py:475: DataConversionWarning: Data with input dtype int64 was converted to float64 by StandardScaler.\n",
      "  warnings.warn(msg, DataConversionWarning)\n"
     ]
    }
   ],
   "source": [
    "X_train = Scaler.fit_transform(x_train)\n",
    "x_test = Scaler.transform(x_test)"
   ]
  },
  {
   "cell_type": "code",
   "execution_count": 124,
   "metadata": {},
   "outputs": [
    {
     "data": {
      "text/plain": [
       "KNeighborsClassifier(algorithm='auto', leaf_size=30, metric='minkowski',\n",
       "           metric_params=None, n_jobs=1, n_neighbors=5, p=2,\n",
       "           weights='uniform')"
      ]
     },
     "execution_count": 124,
     "metadata": {},
     "output_type": "execute_result"
    }
   ],
   "source": [
    "kclf.fit(x_train,y_train)"
   ]
  },
  {
   "cell_type": "code",
   "execution_count": 125,
   "metadata": {},
   "outputs": [],
   "source": [
    "y_pred = kclf.predict(x_test)"
   ]
  },
  {
   "cell_type": "code",
   "execution_count": null,
   "metadata": {},
   "outputs": [],
   "source": []
  },
  {
   "cell_type": "code",
   "execution_count": 126,
   "metadata": {},
   "outputs": [],
   "source": [
    "from sklearn.metrics import accuracy_score"
   ]
  },
  {
   "cell_type": "code",
   "execution_count": 127,
   "metadata": {},
   "outputs": [
    {
     "data": {
      "text/plain": [
       "0.3284811275601987"
      ]
     },
     "execution_count": 127,
     "metadata": {},
     "output_type": "execute_result"
    }
   ],
   "source": [
    "accuracy_score(y_test,y_predict)"
   ]
  },
  {
   "cell_type": "code",
   "execution_count": 128,
   "metadata": {},
   "outputs": [],
   "source": [
    "from sklearn.svm import SVC\n"
   ]
  },
  {
   "cell_type": "code",
   "execution_count": 129,
   "metadata": {},
   "outputs": [],
   "source": [
    "classifier = SVC(kernel='linear')"
   ]
  },
  {
   "cell_type": "code",
   "execution_count": null,
   "metadata": {},
   "outputs": [],
   "source": [
    "classifier.fit(X_train, y_train)"
   ]
  },
  {
   "cell_type": "code",
   "execution_count": null,
   "metadata": {},
   "outputs": [],
   "source": []
  }
 ],
 "metadata": {
  "kernelspec": {
   "display_name": "Python 3",
   "language": "python",
   "name": "python3"
  },
  "language_info": {
   "codemirror_mode": {
    "name": "ipython",
    "version": 3
   },
   "file_extension": ".py",
   "mimetype": "text/x-python",
   "name": "python",
   "nbconvert_exporter": "python",
   "pygments_lexer": "ipython3",
   "version": "3.6.5"
  }
 },
 "nbformat": 4,
 "nbformat_minor": 2
}
