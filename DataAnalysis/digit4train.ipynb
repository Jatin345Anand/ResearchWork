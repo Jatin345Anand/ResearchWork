{
 "cells": [
  {
   "cell_type": "code",
   "execution_count": 68,
   "metadata": {},
   "outputs": [],
   "source": [
    "import seaborn as sns\n",
    "import matplotlib.pyplot as plt\n",
    "import pandas as pd\n",
    "crops = pd.read_csv('crop_production.csv')"
   ]
  },
  {
   "cell_type": "code",
   "execution_count": 69,
   "metadata": {},
   "outputs": [],
   "source": [
    "crops.dropna(inplace=True)\n",
    "import numpy as np\n",
    "X1= crops['Area'].values\n",
    "X2= crops['Production'].values\n",
    "nx1= np.array(X1)\n",
    "nx2= np.array(X2)\n",
    "Y = crops['Season'].values"
   ]
  },
  {
   "cell_type": "code",
   "execution_count": 70,
   "metadata": {},
   "outputs": [],
   "source": [
    "def Reduct_N_DigitValues(n,L):\n",
    "    Ans=[]\n",
    "    for i in range(len(L)):\n",
    "        if(len(str(int(round(L[i]))))>(n-1)):\n",
    "            Ans.append(int(str(int(round(L[i])))[:n]))\n",
    "    return np.array(Ans)"
   ]
  },
  {
   "cell_type": "code",
   "execution_count": 71,
   "metadata": {},
   "outputs": [
    {
     "data": {
      "text/plain": [
       "array([1.25400e+03, 2.00000e+00, 1.02000e+02, ..., 3.24000e+02,\n",
       "       2.79151e+05, 1.75000e+02])"
      ]
     },
     "execution_count": 71,
     "metadata": {},
     "output_type": "execute_result"
    }
   ],
   "source": [
    "X1"
   ]
  },
  {
   "cell_type": "code",
   "execution_count": 72,
   "metadata": {},
   "outputs": [],
   "source": [
    "nx12digit= Reduct_N_DigitValues(2,X1)"
   ]
  },
  {
   "cell_type": "code",
   "execution_count": 73,
   "metadata": {},
   "outputs": [
    {
     "data": {
      "text/plain": [
       "array([12, 10, 17, ..., 32, 27, 17])"
      ]
     },
     "execution_count": 73,
     "metadata": {},
     "output_type": "execute_result"
    }
   ],
   "source": [
    "nx12digit"
   ]
  },
  {
   "cell_type": "code",
   "execution_count": 74,
   "metadata": {},
   "outputs": [],
   "source": [
    "nx13digit = Reduct_N_DigitValues(3,X1)"
   ]
  },
  {
   "cell_type": "code",
   "execution_count": 75,
   "metadata": {},
   "outputs": [
    {
     "data": {
      "text/plain": [
       "array([125, 102, 176, ..., 324, 279, 175])"
      ]
     },
     "execution_count": 75,
     "metadata": {},
     "output_type": "execute_result"
    }
   ],
   "source": [
    "nx13digit"
   ]
  },
  {
   "cell_type": "code",
   "execution_count": 76,
   "metadata": {},
   "outputs": [],
   "source": [
    "nx14digit = Reduct_N_DigitValues(4,X1)"
   ]
  },
  {
   "cell_type": "code",
   "execution_count": 77,
   "metadata": {},
   "outputs": [
    {
     "data": {
      "text/plain": [
       "array([1254, 1816, 1254, ..., 1885, 1622, 2791])"
      ]
     },
     "execution_count": 77,
     "metadata": {},
     "output_type": "execute_result"
    }
   ],
   "source": [
    "nx14digit"
   ]
  },
  {
   "cell_type": "code",
   "execution_count": 78,
   "metadata": {},
   "outputs": [],
   "source": [
    "nx15digit = Reduct_N_DigitValues(5,X1)"
   ]
  },
  {
   "cell_type": "code",
   "execution_count": 79,
   "metadata": {},
   "outputs": [
    {
     "data": {
      "text/plain": [
       "array([18168, 18190, 18240, ..., 30227, 11493, 27915])"
      ]
     },
     "execution_count": 79,
     "metadata": {},
     "output_type": "execute_result"
    }
   ],
   "source": [
    "nx15digit"
   ]
  },
  {
   "cell_type": "code",
   "execution_count": 80,
   "metadata": {},
   "outputs": [],
   "source": [
    "nx11digit = Reduct_N_DigitValues(1,X1)"
   ]
  },
  {
   "cell_type": "code",
   "execution_count": 81,
   "metadata": {},
   "outputs": [
    {
     "data": {
      "text/plain": [
       "242361"
      ]
     },
     "execution_count": 81,
     "metadata": {},
     "output_type": "execute_result"
    }
   ],
   "source": [
    "len(nx11digit)"
   ]
  },
  {
   "cell_type": "code",
   "execution_count": 82,
   "metadata": {},
   "outputs": [],
   "source": [
    "nx21digit= Reduct_N_DigitValues(1,X2)"
   ]
  },
  {
   "cell_type": "code",
   "execution_count": 83,
   "metadata": {},
   "outputs": [
    {
     "data": {
      "text/plain": [
       "242361"
      ]
     },
     "execution_count": 83,
     "metadata": {},
     "output_type": "execute_result"
    }
   ],
   "source": [
    "len(nx21digit)"
   ]
  },
  {
   "cell_type": "code",
   "execution_count": 84,
   "metadata": {},
   "outputs": [
    {
     "data": {
      "text/plain": [
       "array([2.00000e+03, 1.00000e+00, 3.21000e+02, ..., 1.62500e+04,\n",
       "       5.97899e+05, 8.80000e+01])"
      ]
     },
     "execution_count": 84,
     "metadata": {},
     "output_type": "execute_result"
    }
   ],
   "source": [
    "X2"
   ]
  },
  {
   "cell_type": "code",
   "execution_count": 87,
   "metadata": {},
   "outputs": [],
   "source": [
    "nx2lists=[]\n",
    "for i in range(1,6):\n",
    "    nx2lists.append(Reduct_N_DigitValues(i,X2))"
   ]
  },
  {
   "cell_type": "code",
   "execution_count": 88,
   "metadata": {},
   "outputs": [
    {
     "data": {
      "text/plain": [
       "[array([2, 1, 3, ..., 1, 5, 8]),\n",
       " array([20, 32, 64, ..., 16, 59, 88]),\n",
       " array([200, 321, 641, ..., 463, 162, 597]),\n",
       " array([2000, 6510, 2061, ..., 2039, 1625, 5978]),\n",
       " array([65100, 64430, 67490, ..., 13337, 16250, 59789])]"
      ]
     },
     "execution_count": 88,
     "metadata": {},
     "output_type": "execute_result"
    }
   ],
   "source": [
    "nx2lists"
   ]
  },
  {
   "cell_type": "code",
   "execution_count": 89,
   "metadata": {},
   "outputs": [],
   "source": [
    "nx1lists=[]\n",
    "for i in range(1,6):\n",
    "    nx1lists.append(Reduct_N_DigitValues(i,X1))"
   ]
  },
  {
   "cell_type": "code",
   "execution_count": 90,
   "metadata": {},
   "outputs": [
    {
     "data": {
      "text/plain": [
       "[array([1, 2, 1, ..., 3, 2, 1]),\n",
       " array([12, 10, 17, ..., 32, 27, 17]),\n",
       " array([125, 102, 176, ..., 324, 279, 175]),\n",
       " array([1254, 1816, 1254, ..., 1885, 1622, 2791]),\n",
       " array([18168, 18190, 18240, ..., 30227, 11493, 27915])]"
      ]
     },
     "execution_count": 90,
     "metadata": {},
     "output_type": "execute_result"
    }
   ],
   "source": [
    "nx1lists"
   ]
  },
  {
   "cell_type": "code",
   "execution_count": 124,
   "metadata": {},
   "outputs": [],
   "source": [
    "def MinimizeLengthofLists(L1,L2,L3):\n",
    "    Ans=[]\n",
    "    L11= L1.tolist()\n",
    "    L22= L2.tolist()\n",
    "    Min = min(len(L11),len(L22))\n",
    "    print(\"min = \",Min)\n",
    "    if(Min==len(L11)):\n",
    "        print('L11')\n",
    "        for i in range(Min):\n",
    "            Ans.append(L22[i])\n",
    "        L22.clear()\n",
    "        L22=Ans\n",
    "    else:\n",
    "        print('L22')\n",
    "        for i in range(Min):\n",
    "            Ans.append(L11[i])\n",
    "        L11.clear()\n",
    "        L11=Ans\n",
    "    print(len(L11),len(L22),len(Ans),len(L3))\n",
    "    Y1=[]\n",
    "    for i in range(Min):\n",
    "        Y1.append(L3[i])\n",
    "    print(len(Y1))\n",
    "    return np.array(L11),np.array(L22),np.array(Y1)\n",
    "    \n",
    "            "
   ]
  },
  {
   "cell_type": "code",
   "execution_count": 125,
   "metadata": {},
   "outputs": [
    {
     "name": "stdout",
     "output_type": "stream",
     "text": [
      "min =  218943\n",
      "L22\n",
      "218943 218943 218943 242361\n",
      "218943\n"
     ]
    }
   ],
   "source": [
    "ANS = MinimizeLengthofLists(nx1lists[1],nx2lists[1],Y)\n",
    "# for i in ANS:\n",
    "#     print(i,len(i))"
   ]
  },
  {
   "cell_type": "code",
   "execution_count": 126,
   "metadata": {},
   "outputs": [
    {
     "name": "stdout",
     "output_type": "stream",
     "text": [
      "min =  242361\n",
      "L11\n",
      "242361 242361 242361 242361\n",
      "242361\n",
      "min =  218943\n",
      "L22\n",
      "218943 218943 218943 242361\n",
      "218943\n",
      "min =  178438\n",
      "L11\n",
      "178438 178438 178438 242361\n",
      "178438\n",
      "min =  105643\n",
      "L11\n",
      "105643 105643 105643 242361\n",
      "105643\n",
      "min =  42367\n",
      "L11\n",
      "42367 42367 42367 242361\n",
      "42367\n"
     ]
    }
   ],
   "source": [
    "L=[]\n",
    "for i in range(5):\n",
    "    L1=[]\n",
    "    Ans= MinimizeLengthofLists(nx1lists[i],nx2lists[i],Y)\n",
    "    L1.append(Ans[0])\n",
    "    L1.append(Ans[1])\n",
    "    L1.append(Ans[2])\n",
    "    L.append(L1)\n",
    "    "
   ]
  },
  {
   "cell_type": "code",
   "execution_count": 127,
   "metadata": {},
   "outputs": [
    {
     "data": {
      "text/plain": [
       "5"
      ]
     },
     "execution_count": 127,
     "metadata": {},
     "output_type": "execute_result"
    }
   ],
   "source": [
    "len(L)"
   ]
  },
  {
   "cell_type": "code",
   "execution_count": 131,
   "metadata": {},
   "outputs": [],
   "source": [
    "NX = []\n",
    "for i in L:\n",
    "    NX.append(np.vstack((i[0],i[1])).T)\n",
    "    "
   ]
  },
  {
   "cell_type": "code",
   "execution_count": 132,
   "metadata": {},
   "outputs": [],
   "source": [
    "from sklearn.preprocessing import  StandardScaler\n",
    "Scaler = StandardScaler()"
   ]
  },
  {
   "cell_type": "code",
   "execution_count": 139,
   "metadata": {},
   "outputs": [
    {
     "data": {
      "text/plain": [
       "array([[18168, 65100],\n",
       "       [18190, 64430],\n",
       "       [18240, 67490],\n",
       "       ...,\n",
       "       [30227, 89449],\n",
       "       [11493, 34424],\n",
       "       [27915, 11318]])"
      ]
     },
     "execution_count": 139,
     "metadata": {},
     "output_type": "execute_result"
    }
   ],
   "source": [
    "NX[4]"
   ]
  },
  {
   "cell_type": "code",
   "execution_count": 140,
   "metadata": {},
   "outputs": [],
   "source": [
    "from sklearn.model_selection import train_test_split\n",
    "# x_train,x_test,y_train,y_test =  train_test_split(nx,ny,test_size=0.25)\n",
    "TrainingTestData=[]\n",
    "for i in range(5):\n",
    "    TrainingTestData.append(train_test_split(NX[i],L[i][2],test_size=0.25))\n",
    "    "
   ]
  },
  {
   "cell_type": "code",
   "execution_count": 148,
   "metadata": {},
   "outputs": [
    {
     "data": {
      "text/plain": [
       "5"
      ]
     },
     "execution_count": 148,
     "metadata": {},
     "output_type": "execute_result"
    }
   ],
   "source": [
    "len(TrainingTestData)"
   ]
  },
  {
   "cell_type": "code",
   "execution_count": 142,
   "metadata": {},
   "outputs": [],
   "source": [
    "from sklearn.metrics import accuracy_score\n",
    "from sklearn.ensemble import RandomForestClassifier\n",
    "RFclf = RandomForestClassifier(n_estimators=10)\n",
    "from sklearn.svm import SVC\n",
    "SVMclassifier = SVC(kernel='linear')\n",
    "from sklearn.neighbors import KNeighborsClassifier\n",
    "knnclf = KNeighborsClassifier()\n",
    "from sklearn import tree\n",
    "DTclf = tree.DecisionTreeClassifier()"
   ]
  },
  {
   "cell_type": "code",
   "execution_count": null,
   "metadata": {},
   "outputs": [],
   "source": [
    "PredictList=[]\n",
    "for i in TrainingTestData:\n",
    "    L=[]\n",
    "    RFclf.fit(i[0],i[2])\n",
    "    knnclf.fit(i[0],i[2])\n",
    "    DTclf.fit(i[0],i[2])\n",
    "    SVMclassifier.fit(i[0],i[2])\n",
    "    L.append(RFclf.predict(i[1]))\n",
    "    L.append(knnclf.predict(i[1]))\n",
    "    L.append(DTclf.predict(i[1]))\n",
    "    L.append(SVMclassifier.predict(i[1]))\n",
    "    PredictList.append(L)\n",
    "    "
   ]
  },
  {
   "cell_type": "code",
   "execution_count": 149,
   "metadata": {},
   "outputs": [],
   "source": [
    "accuracyList=[]\n",
    "for i in range(5):\n",
    "    L=[]\n",
    "    L.append(accuracy_score(TrainingTestData[i][3],PredictList[i][0]))\n",
    "    L.append(accuracy_score(TrainingTestData[i][3],PredictList[i][1]))\n",
    "    L.append(accuracy_score(TrainingTestData[i][3],PredictList[i][2]))\n",
    "    L.append(accuracy_score(TrainingTestData[i][3],PredictList[i][3]))\n",
    "    accuracyList.append(L)\n",
    "    \n"
   ]
  },
  {
   "cell_type": "code",
   "execution_count": 150,
   "metadata": {},
   "outputs": [
    {
     "name": "stdout",
     "output_type": "stream",
     "text": [
      "[0.39685761911835093, 0.3260220164710931, 0.39685761911835093]\n",
      "[0.35709587839812923, 0.3358484361297866, 0.3653536977491961]\n",
      "[0.298453261600538, 0.33230217440035864, 0.2933422999327505]\n",
      "[0.3036992162356594, 0.3214569686872894, 0.2861307788421491]\n",
      "[0.30117069486404835, 0.3137273413897281, 0.2809667673716012]\n"
     ]
    }
   ],
   "source": [
    "for i in accuracyList:\n",
    "    print(i)"
   ]
  },
  {
   "cell_type": "code",
   "execution_count": null,
   "metadata": {},
   "outputs": [],
   "source": []
  }
 ],
 "metadata": {
  "kernelspec": {
   "display_name": "Python 3",
   "language": "python",
   "name": "python3"
  },
  "language_info": {
   "codemirror_mode": {
    "name": "ipython",
    "version": 3
   },
   "file_extension": ".py",
   "mimetype": "text/x-python",
   "name": "python",
   "nbconvert_exporter": "python",
   "pygments_lexer": "ipython3",
   "version": "3.6.5"
  }
 },
 "nbformat": 4,
 "nbformat_minor": 2
}
